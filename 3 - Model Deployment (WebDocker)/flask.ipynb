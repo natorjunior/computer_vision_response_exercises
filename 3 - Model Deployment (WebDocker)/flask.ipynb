{
 "cells": [
  {
   "cell_type": "markdown",
   "metadata": {},
   "source": [
    "# 3) Model Deployment (Web/Docker)"
   ]
  },
  {
   "cell_type": "code",
   "execution_count": 13,
   "metadata": {},
   "outputs": [
    {
     "data": {
      "text/plain": [
       "'C:\\\\Users\\\\Trisna\\\\Desktop\\\\desafio_visao\\\\3 - Model Deployment (WebDocker)\\\\aa'"
      ]
     },
     "execution_count": 13,
     "metadata": {},
     "output_type": "execute_result"
    }
   ],
   "source": [
    "#!pip freeze > requirements.txt\n",
    "import os\n",
    "type(os.getcwd())\n",
    "os.path.join(os.getcwd(), 'aa')"
   ]
  },
  {
   "cell_type": "code",
   "execution_count": 7,
   "metadata": {},
   "outputs": [],
   "source": [
    "#!pip install flask\n",
    "#!pip install Werkzeug\n",
    "#!pip install matplotlib\n",
    "#!pip install opencv-contrib-python"
   ]
  },
  {
   "cell_type": "code",
   "execution_count": 1,
   "metadata": {},
   "outputs": [],
   "source": [
    "from flask import Flask, render_template, request,send_file\n",
    "from werkzeug.utils import secure_filename\n",
    "import matplotlib.pyplot as plt\n",
    "from flask_code.ml.YOLO_V3 import YOLO_V3\n",
    "import numpy as np\n",
    "import hashlib\n",
    "import cv2\n",
    "import os"
   ]
  },
  {
   "cell_type": "code",
   "execution_count": 2,
   "metadata": {},
   "outputs": [
    {
     "name": "stdout",
     "output_type": "stream",
     "text": [
      " * Serving Flask app \"__main__\" (lazy loading)\n",
      " * Environment: production\n",
      "   WARNING: This is a development server. Do not use it in a production deployment.\n",
      "   Use a production WSGI server instead.\n",
      " * Debug mode: off\n"
     ]
    },
    {
     "name": "stderr",
     "output_type": "stream",
     "text": [
      " * Running on http://0.0.0.0:5000/ (Press CTRL+C to quit)\n"
     ]
    },
    {
     "name": "stdout",
     "output_type": "stream",
     "text": [
      "post\n",
      "29edd6ca9f3a91fae6c5d46468571737\n",
      "C:\\Users\\Trisna\\Desktop\\desafio_visao\\3 - Model Deployment (WebDocker)\\ml/yolov3.weights\n",
      "[0, 'person', 0.9985480904579163, [175.0, 28.5, 514, 437], array([0], dtype=int32)]\n"
     ]
    },
    {
     "name": "stderr",
     "output_type": "stream",
     "text": [
      "127.0.0.1 - - [16/Jul/2020 00:03:13] \"\u001b[37mPOST /process_file HTTP/1.1\u001b[0m\" 200 -\n"
     ]
    },
    {
     "name": "stdout",
     "output_type": "stream",
     "text": [
      "29edd6ca9f3a91fae6c5d46468571737.jpg\n"
     ]
    },
    {
     "name": "stderr",
     "output_type": "stream",
     "text": [
      "127.0.0.1 - - [16/Jul/2020 00:03:18] \"\u001b[31m\u001b[1mPOST /upload HTTP/1.1\u001b[0m\" 405 -\n",
      "127.0.0.1 - - [16/Jul/2020 00:04:20] \"\u001b[33mPOST / HTTP/1.1\u001b[0m\" 404 -\n",
      "127.0.0.1 - - [16/Jul/2020 00:04:27] \"\u001b[31m\u001b[1mPOST /upload HTTP/1.1\u001b[0m\" 405 -\n",
      "127.0.0.1 - - [16/Jul/2020 00:04:31] \"\u001b[31m\u001b[1mPOST /upload HTTP/1.1\u001b[0m\" 405 -\n",
      "127.0.0.1 - - [16/Jul/2020 00:04:48] \"\u001b[31m\u001b[1mPOST /upload HTTP/1.1\u001b[0m\" 405 -\n"
     ]
    },
    {
     "name": "stdout",
     "output_type": "stream",
     "text": [
      "post\n",
      "2ced974f380390aa9322df7adcb62e0b\n",
      "C:\\Users\\Trisna\\Desktop\\desafio_visao\\3 - Model Deployment (WebDocker)\\ml/yolov3.weights\n",
      "[0, 'person', 0.9985480904579163, [175.0, 28.5, 514, 437], array([0], dtype=int32)]\n"
     ]
    },
    {
     "name": "stderr",
     "output_type": "stream",
     "text": [
      "127.0.0.1 - - [16/Jul/2020 00:05:01] \"\u001b[37mPOST /process_file HTTP/1.1\u001b[0m\" 200 -\n"
     ]
    },
    {
     "name": "stdout",
     "output_type": "stream",
     "text": [
      "2ced974f380390aa9322df7adcb62e0b.jpg\n",
      "post\n",
      "e3f360b4cf4a3464131eb051db67010d\n",
      "C:\\Users\\Trisna\\Desktop\\desafio_visao\\3 - Model Deployment (WebDocker)\\ml/yolov3.weights\n",
      "[0, 'person', 0.9980416297912598, [143.5, 14.5, 573, 463], array([0], dtype=int32)]\n"
     ]
    },
    {
     "name": "stderr",
     "output_type": "stream",
     "text": [
      "127.0.0.1 - - [16/Jul/2020 00:06:16] \"\u001b[37mPOST /process_file HTTP/1.1\u001b[0m\" 200 -\n"
     ]
    },
    {
     "name": "stdout",
     "output_type": "stream",
     "text": [
      "e3f360b4cf4a3464131eb051db67010d.jpg\n",
      "post\n",
      "8b3532796a69e21f53a3f7d8dbc1616e\n",
      "C:\\Users\\Trisna\\Desktop\\desafio_visao\\3 - Model Deployment (WebDocker)\\ml/yolov3.weights\n",
      "[0, 'person', 0.9997662901878357, [315.5, 133.0, 171, 344], array([0], dtype=int32)]\n"
     ]
    },
    {
     "name": "stderr",
     "output_type": "stream",
     "text": [
      "127.0.0.1 - - [16/Jul/2020 00:08:11] \"\u001b[37mPOST /process_file HTTP/1.1\u001b[0m\" 200 -\n"
     ]
    },
    {
     "name": "stdout",
     "output_type": "stream",
     "text": [
      "8b3532796a69e21f53a3f7d8dbc1616e.jpg\n"
     ]
    }
   ],
   "source": [
    "app = Flask(__name__)\n",
    "def process_image(path_img):\n",
    "    name_img = hashlib.md5(os.urandom(32)).hexdigest()\n",
    "    print(str(name_img))\n",
    "    img = cv2.imread(path_img,cv2.IMREAD_COLOR)\n",
    "    tam_orig = img.shape[1],img.shape[0]\n",
    "    img = cv2.resize(img, (864,480))\n",
    "    img = cv2.cvtColor(img, cv2.COLOR_BGR2RGB)\n",
    "    #yolo = YOLO_V3()\n",
    "    yolo = YOLO_V3(weights_path='flask_code/ml/yolov3.weights',cfg_path='flask_code/ml/yolov3.cfg')\n",
    "    result = yolo.predict(img)\n",
    "    print(result)\n",
    "    box = result[3]\n",
    "    rect=(int(box[0]),int(box[1]),int(box[2]),int(box[3]))\n",
    "    mask = np.zeros(img.shape[:2],np.uint8)\n",
    "    bgdModel = np.zeros((1,65),np.float64)\n",
    "    fgdModel = np.zeros((1,65),np.float64)\n",
    "    cv2.grabCut(img,mask,rect,bgdModel,fgdModel,5,cv2.GC_INIT_WITH_RECT)\n",
    "    mask2 = np.where((mask==2)|(mask==0),0,1).astype('uint8')\n",
    "    img = img*mask2[:,:,np.newaxis]\n",
    "    img = cv2.cvtColor(img, cv2.COLOR_BGR2RGB)\n",
    "    img = cv2.resize(img, tam_orig)\n",
    "    cv2.imwrite(str(name_img)+'.jpg', img)\n",
    "    path_new_img = name_img+'.jpg'\n",
    "    return path_new_img\n",
    "\n",
    "@app.route('/upload')\n",
    "def upload_file():\n",
    "    return render_template('upload.html')\n",
    "\n",
    "@app.route('/process_file', methods = ['GET', 'POST'])\n",
    "def respinse_upload():\n",
    "    #print(request.method)\n",
    "    if request.method == 'POST':\n",
    "        print('post')\n",
    "        f = request.files['file']\n",
    "        f.save(secure_filename(f.filename))\n",
    "        path_img = process_image(secure_filename(f.filename))\n",
    "        print(path_img)\n",
    "        #send_file()\n",
    "        return send_file(path_img, mimetype='')#'<img src=\"img/input.jpg\" alt=\"Minha Figura\">'\n",
    "\n",
    "if __name__ == \"__main__\":\n",
    "    port = int(os.environ.get(\"PORT\", 5000))\n",
    "    app.run(host='0.0.0.0', port=port)"
   ]
  },
  {
   "cell_type": "code",
   "execution_count": null,
   "metadata": {},
   "outputs": [],
   "source": []
  },
  {
   "cell_type": "code",
   "execution_count": null,
   "metadata": {},
   "outputs": [],
   "source": []
  },
  {
   "cell_type": "code",
   "execution_count": null,
   "metadata": {},
   "outputs": [],
   "source": []
  }
 ],
 "metadata": {
  "kernelspec": {
   "display_name": "Python 3",
   "language": "python",
   "name": "python3"
  },
  "language_info": {
   "codemirror_mode": {
    "name": "ipython",
    "version": 3
   },
   "file_extension": ".py",
   "mimetype": "text/x-python",
   "name": "python",
   "nbconvert_exporter": "python",
   "pygments_lexer": "ipython3",
   "version": "3.7.3"
  }
 },
 "nbformat": 4,
 "nbformat_minor": 2
}
